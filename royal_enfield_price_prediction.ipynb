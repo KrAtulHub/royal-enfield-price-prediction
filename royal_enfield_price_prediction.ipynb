{
 "cells": [
  {
   "cell_type": "markdown",
   "id": "014a4770",
   "metadata": {},
   "source": [
    "# Royal Enfield Bike Price Prediction\n",
    "\n",
    "This notebook trains a machine learning model to predict the resale price of Royal Enfield motorcycles."
   ]
  },
  {
   "cell_type": "code",
   "execution_count": null,
   "id": "538c556d",
   "metadata": {},
   "outputs": [],
   "source": [
    "import pandas as pd\n",
    "import numpy as np\n",
    "import matplotlib.pyplot as plt\n",
    "import seaborn as sns\n",
    "import joblib\n",
    "import warnings\n",
    "from sklearn.model_selection import train_test_split\n",
    "from sklearn.preprocessing import LabelEncoder\n",
    "from sklearn.linear_model import LinearRegression\n",
    "from sklearn.ensemble import RandomForestRegressor, GradientBoostingRegressor\n",
    "from sklearn.metrics import r2_score, mean_squared_error, mean_absolute_error\n",
    "from tabulate import tabulate\n",
    "\n",
    "warnings.filterwarnings('ignore')\n",
    "\n",
    "%matplotlib inline\n",
    "sns.set_style(\"whitegrid\")"
   ]
  },
  {
   "cell_type": "markdown",
   "id": "33109df3",
   "metadata": {},
   "source": [
    "## 1. Load Data"
   ]
  },
  {
   "cell_type": "code",
   "execution_count": null,
   "id": "5a1db021",
   "metadata": {},
   "outputs": [],
   "source": [
    "df = pd.read_csv(\"royal_enfield_data.csv\")\n",
    "\n",
    "print(\"\\n📊 Dataset Overview\")\n",
    "print(\"=\" * 50)\n",
    "print(\"Shape:\", df.shape)\n",
    "print(\"\\nFirst 5 rows:\\n\", df.head())\n",
    "print(\"\\nDataset Info:\")\n",
    "print(df.info())"
   ]
  },
  {
   "cell_type": "markdown",
   "id": "515d1ed8",
   "metadata": {},
   "source": [
    "## 2. Exploratory Data Analysis"
   ]
  },
  {
   "cell_type": "code",
   "execution_count": null,
   "id": "8c058ec7",
   "metadata": {},
   "outputs": [],
   "source": [
    "# Distribution of selling prices\n",
    "plt.figure(figsize=(10, 6))\n",
    "sns.histplot(df['Selling_Price'], bins=20, kde=True)\n",
    "plt.title('Distribution of Selling Prices')\n",
    "plt.xlabel('Selling Price (Lakhs)')\n",
    "plt.ylabel('Frequency')\n",
    "plt.show()"
   ]
  },
  {
   "cell_type": "code",
   "execution_count": null,
   "id": "7d255361",
   "metadata": {},
   "outputs": [],
   "source": [
    "# Average selling price by model\n",
    "plt.figure(figsize=(10, 6))\n",
    "model_prices = df.groupby('Model')['Selling_Price'].mean().sort_values(ascending=False)\n",
    "sns.barplot(x=model_prices.values, y=model_prices.index, palette='viridis')\n",
    "plt.title('Average Selling Price by Model')\n",
    "plt.xlabel('Average Selling Price (Lakhs)')\n",
    "plt.ylabel('Model')\n",
    "plt.show()"
   ]
  },
  {
   "cell_type": "markdown",
   "id": "8c92d268",
   "metadata": {},
   "source": [
    "## 3. Feature Engineering"
   ]
  },
  {
   "cell_type": "code",
   "execution_count": null,
   "id": "75ad3968",
   "metadata": {},
   "outputs": [],
   "source": [
    "current_year = 2023\n",
    "df[\"Bike_Age\"] = current_year - df[\"Year\"]\n",
    "\n",
    "# Label encoding\n",
    "le_model = LabelEncoder()\n",
    "le_owner = LabelEncoder()\n",
    "le_transmission = LabelEncoder()\n",
    "\n",
    "df[\"Model_encoded\"] = le_model.fit_transform(df[\"Model\"])\n",
    "df[\"Owner_encoded\"] = le_owner.fit_transform(df[\"Owner\"])\n",
    "df[\"Transmission_encoded\"] = le_transmission.fit_transform(df[\"Transmission\"])\n",
    "\n",
    "features = [\"Model_encoded\", \"Bike_Age\", \"Kms_Driven\", \"Owner_encoded\", \"Transmission_encoded\", \"Present_Price\"]\n",
    "X = df[features]\n",
    "y = df[\"Selling_Price\"]\n",
    "\n",
    "X_train, X_test, y_train, y_test = train_test_split(X, y, test_size=0.2, random_state=42)\n",
    "\n",
    "print(\"\\n📌 Training Samples:\", X_train.shape[0])\n",
    "print(\"📌 Testing Samples :\", X_test.shape[0])"
   ]
  },
  {
   "cell_type": "markdown",
   "id": "20a1e5ad",
   "metadata": {},
   "source": [
    "## 4. Model Training & Evaluation"
   ]
  },
  {
   "cell_type": "code",
   "execution_count": null,
   "id": "5d0d6027",
   "metadata": {},
   "outputs": [],
   "source": [
    "models = {\n",
    "    \"Linear Regression\": LinearRegression(),\n",
    "    \"Random Forest\": RandomForestRegressor(n_estimators=200, random_state=42),\n",
    "    \"Gradient Boosting\": GradientBoostingRegressor(n_estimators=200, random_state=42),\n",
    "}\n",
    "\n",
    "results = []\n",
    "\n",
    "def evaluate_model(name, model):\n",
    "    model.fit(X_train, y_train)\n",
    "    y_pred = model.predict(X_test)\n",
    "    r2 = r2_score(y_test, y_pred)\n",
    "    rmse = np.sqrt(mean_squared_error(y_test, y_pred))\n",
    "    mae = mean_absolute_error(y_test, y_pred)\n",
    "    results.append([name, r2, rmse, mae, model])\n",
    "    return r2\n",
    "\n",
    "print(\"\\n⚡ Training Models...\")\n",
    "for name, model in models.items():\n",
    "    evaluate_model(name, model)"
   ]
  },
  {
   "cell_type": "code",
   "execution_count": null,
   "id": "5f152d83",
   "metadata": {},
   "outputs": [],
   "source": [
    "# Show summary\n",
    "results_df = pd.DataFrame(results, columns=[\"Model\", \"R²\", \"RMSE\", \"MAE\", \"Object\"])\n",
    "print(\"\\n📊 Model Performance\")\n",
    "print(tabulate(results_df.drop(\"Object\", axis=1), headers=\"keys\", tablefmt=\"fancy_grid\", showindex=False))"
   ]
  },
  {
   "cell_type": "markdown",
   "id": "3a1a1433",
   "metadata": {},
   "source": [
    "## 5. Select Best Model"
   ]
  },
  {
   "cell_type": "code",
   "execution_count": null,
   "id": "db8a1331",
   "metadata": {},
   "outputs": [],
   "source": [
    "best_row = results_df.iloc[results_df[\"R²\"].idxmax()]\n",
    "best_model, best_name = best_row[\"Object\"], best_row[\"Model\"]\n",
    "\n",
    "print(f\"\\n🏆 Best Model: {best_name} (R² = {best_row['R²']:.4f})\")\n",
    "\n",
    "# Save model + encoders\n",
    "joblib.dump(best_model, \"royal_enfield_model.pkl\")\n",
    "joblib.dump(le_model, \"le_model.pkl\")\n",
    "joblib.dump(le_owner, \"le_owner.pkl\")\n",
    "joblib.dump(le_transmission, \"le_transmission.pkl\")\n",
    "\n",
    "print(\"✅ Model & Encoders Saved!\")"
   ]
  },
  {
   "cell_type": "markdown",
   "id": "155703fc",
   "metadata": {},
   "source": [
    "## 6. Feature Importance (Tree models only)"
   ]
  },
  {
   "cell_type": "code",
   "execution_count": null,
   "id": "f95a8c67",
   "metadata": {},
   "outputs": [],
   "source": [
    "if hasattr(best_model, \"feature_importances_\"):\n",
    "    importance = pd.DataFrame({\n",
    "        \"Feature\": features,\n",
    "        \"Importance\": best_model.feature_importances_\n",
    "    }).sort_values(\"Importance\", ascending=False)\n",
    "\n",
    "    plt.figure(figsize=(10, 6))\n",
    "    sns.barplot(data=importance, x=\"Importance\", y=\"Feature\", palette=\"viridis\")\n",
    "    plt.title(f\"Feature Importance - {best_name}\")\n",
    "    plt.tight_layout()\n",
    "    plt.show()"
   ]
  },
  {
   "cell_type": "markdown",
   "id": "b7d62b11",
   "metadata": {},
   "source": [
    "## 7. Actual vs Predicted Plot"
   ]
  },
  {
   "cell_type": "code",
   "execution_count": null,
   "id": "a54b0652",
   "metadata": {},
   "outputs": [],
   "source": [
    "plt.figure(figsize=(8, 6))\n",
    "y_pred_best = best_model.predict(X_test)\n",
    "plt.scatter(y_test, y_pred_best, alpha=0.7, edgecolor=\"k\")\n",
    "plt.plot([y_test.min(), y_test.max()], [y_test.min(), y_test.max()], \"r--\")\n",
    "plt.xlabel(\"Actual Price (Lakhs)\")\n",
    "plt.ylabel(\"Predicted Price (Lakhs)\")\n",
    "plt.title(f\"Actual vs Predicted - {best_name}\")\n",
    "plt.tight_layout()\n",
    "plt.show()"
   ]
  },
  {
   "cell_type": "markdown",
   "id": "55f4bf17",
   "metadata": {},
   "source": [
    "## 8. Model Insights\n",
    "\n",
    "Based on our analysis:\n",
    "\n",
    "1. **Best Performing Model**: Linear Regression achieved the highest R² score\n",
    "2. **Key Features**: Present Price and Bike Age are the most important factors\n",
    "3. **Model Performance**: All models performed well with R² scores above 0.9\n",
    "\n",
    "The model has been saved and can be used for predictions in the Streamlit application."
   ]
  }
 ],
 "metadata": {
  "language_info": {
   "name": "python"
  }
 },
 "nbformat": 4,
 "nbformat_minor": 5
}
